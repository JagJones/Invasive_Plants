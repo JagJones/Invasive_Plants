{
 "cells": [
  {
   "cell_type": "markdown",
   "id": "d362d876",
   "metadata": {},
   "source": [
    "## Invasive Plant Data of Kentucky"
   ]
  },
  {
   "cell_type": "code",
   "execution_count": 1,
   "id": "17f335dd",
   "metadata": {},
   "outputs": [],
   "source": [
    "# Source: https://www.invasiveplantatlas.org/list.html?id=24\n",
    "\n",
    "# The goal here is to:\n",
    "# 1. Read in data from two source types.\n",
    "# 2. The first df (df1, from a csv), lists invasive plant species by both common and scientific names, and lists whether it's 'exotic' or not.\n",
    "# 3. The second df (df2, from a pdf), tacks on a column to list the species from most to least invasive. \n",
    "# 4. Combine the two dfs to create one main df (df_main).\n",
    "# 5. Use matplotlib/seaorn to visually display the plants from most to least invasive.\n",
    "## BONUS ##\n",
    "# 6. Create a dictionary & function so a user can enter a plant and see if it's invasive, and if so- how invasive?\n",
    "\n",
    "## Features- \n",
    "# . Read data from an external file, such as text, JSON, CSV, etc and use that data in your application\n",
    "# . Create and call at least 3 functions or methods, at least one of which must return a value that is used \n",
    "# somewhere else in your code. To clarify, at least one function should be called in your code, that function \n",
    "# should calculate, retrieve, or otherwise set the value of a variable or data structure, return a value to \n",
    "# where it was called, and use that value somewhere else in your code.\n",
    "# . Visualize data in a graph, chart, or other visual representation of data\n",
    "\n",
    "## Special Features- \n",
    "# . Use pandas, matplotlib, and/or numpy to perform a data analysis project. Ingest 2 or more pieces of data, \n",
    "# analyze that data in some manner, and display a new result to a graph, chart, or other display"
   ]
  },
  {
   "cell_type": "code",
   "execution_count": 6,
   "id": "e9a4ec94",
   "metadata": {},
   "outputs": [],
   "source": [
    "# Imports 'pandas' into the script.\n",
    "import pandas as pd"
   ]
  },
  {
   "cell_type": "code",
   "execution_count": 7,
   "id": "8e83cefd",
   "metadata": {},
   "outputs": [],
   "source": [
    "# Reads in data from a local csv file. Then creates a data frame, which is assigned to 'df1'.\n",
    "df1 = pd.read_csv('data/Invasive_Plants_List - Sheet1.csv')"
   ]
  },
  {
   "cell_type": "code",
   "execution_count": 9,
   "id": "a559ed39",
   "metadata": {},
   "outputs": [
    {
     "data": {
      "text/html": [
       "<div>\n",
       "<style scoped>\n",
       "    .dataframe tbody tr th:only-of-type {\n",
       "        vertical-align: middle;\n",
       "    }\n",
       "\n",
       "    .dataframe tbody tr th {\n",
       "        vertical-align: top;\n",
       "    }\n",
       "\n",
       "    .dataframe thead th {\n",
       "        text-align: right;\n",
       "    }\n",
       "</style>\n",
       "<table border=\"1\" class=\"dataframe\">\n",
       "  <thead>\n",
       "    <tr style=\"text-align: right;\">\n",
       "      <th></th>\n",
       "      <th>Subject Name</th>\n",
       "      <th>Scientific Name ↓</th>\n",
       "      <th>Family</th>\n",
       "      <th>U.S. Nativity</th>\n",
       "    </tr>\n",
       "  </thead>\n",
       "  <tbody>\n",
       "    <tr>\n",
       "      <th>0</th>\n",
       "      <td>Norway maple</td>\n",
       "      <td>Acer platanoides L.</td>\n",
       "      <td>Aceraceae</td>\n",
       "      <td>Exotic</td>\n",
       "    </tr>\n",
       "    <tr>\n",
       "      <th>1</th>\n",
       "      <td>Japanese chaff flower</td>\n",
       "      <td>Achyranthes japonica (Miq.) Nakai</td>\n",
       "      <td>Amaranthaceae</td>\n",
       "      <td>Exotic</td>\n",
       "    </tr>\n",
       "    <tr>\n",
       "      <th>2</th>\n",
       "      <td>creeping bentgrass</td>\n",
       "      <td>Agrostis stolonifera L.</td>\n",
       "      <td>Poaceae</td>\n",
       "      <td>Exotic</td>\n",
       "    </tr>\n",
       "    <tr>\n",
       "      <th>3</th>\n",
       "      <td>tree-of-heaven</td>\n",
       "      <td>Ailanthus altissima (P. Mill.) Swingle</td>\n",
       "      <td>Simaroubaceae</td>\n",
       "      <td>Exotic</td>\n",
       "    </tr>\n",
       "    <tr>\n",
       "      <th>4</th>\n",
       "      <td>chocolate vine</td>\n",
       "      <td>Akebia quinata (Houtt.) Dcne.</td>\n",
       "      <td>Lardizabalaceae</td>\n",
       "      <td>Exotic</td>\n",
       "    </tr>\n",
       "    <tr>\n",
       "      <th>...</th>\n",
       "      <td>...</td>\n",
       "      <td>...</td>\n",
       "      <td>...</td>\n",
       "      <td>...</td>\n",
       "    </tr>\n",
       "    <tr>\n",
       "      <th>171</th>\n",
       "      <td>common periwinkle</td>\n",
       "      <td>Vinca minor L.</td>\n",
       "      <td>Apocynaceae</td>\n",
       "      <td>Exotic</td>\n",
       "    </tr>\n",
       "    <tr>\n",
       "      <th>172</th>\n",
       "      <td>Japanese wisteria</td>\n",
       "      <td>Wisteria floribunda (Willd.) DC.</td>\n",
       "      <td>Fabaceae (Leguminosae)</td>\n",
       "      <td>Exotic</td>\n",
       "    </tr>\n",
       "    <tr>\n",
       "      <th>173</th>\n",
       "      <td>Chinese wisteria</td>\n",
       "      <td>Wisteria sinensis (Sims) DC.</td>\n",
       "      <td>Fabaceae (Leguminosae)</td>\n",
       "      <td>Exotic</td>\n",
       "    </tr>\n",
       "    <tr>\n",
       "      <th>174</th>\n",
       "      <td>Wisteria floribunda x sinensis hybrid</td>\n",
       "      <td>Wisteria x formosa [floribunda x sinensis]</td>\n",
       "      <td>Fabaceae (Leguminosae)</td>\n",
       "      <td>Exotic</td>\n",
       "    </tr>\n",
       "    <tr>\n",
       "      <th>175</th>\n",
       "      <td>Japanese zelkova</td>\n",
       "      <td>Zelkova serrata (Thunb.) Makino</td>\n",
       "      <td>Ulmaceae</td>\n",
       "      <td>Exotic</td>\n",
       "    </tr>\n",
       "  </tbody>\n",
       "</table>\n",
       "<p>176 rows × 4 columns</p>\n",
       "</div>"
      ],
      "text/plain": [
       "                              Subject Name  \\\n",
       "0                             Norway maple   \n",
       "1                    Japanese chaff flower   \n",
       "2                       creeping bentgrass   \n",
       "3                           tree-of-heaven   \n",
       "4                           chocolate vine   \n",
       "..                                     ...   \n",
       "171                      common periwinkle   \n",
       "172                      Japanese wisteria   \n",
       "173                       Chinese wisteria   \n",
       "174  Wisteria floribunda x sinensis hybrid   \n",
       "175                       Japanese zelkova   \n",
       "\n",
       "                              Scientific Name ↓                  Family  \\\n",
       "0                           Acer platanoides L.               Aceraceae   \n",
       "1             Achyranthes japonica (Miq.) Nakai           Amaranthaceae   \n",
       "2                       Agrostis stolonifera L.                 Poaceae   \n",
       "3        Ailanthus altissima (P. Mill.) Swingle           Simaroubaceae   \n",
       "4                 Akebia quinata (Houtt.) Dcne.         Lardizabalaceae   \n",
       "..                                          ...                     ...   \n",
       "171                              Vinca minor L.             Apocynaceae   \n",
       "172            Wisteria floribunda (Willd.) DC.  Fabaceae (Leguminosae)   \n",
       "173                Wisteria sinensis (Sims) DC.  Fabaceae (Leguminosae)   \n",
       "174  Wisteria x formosa [floribunda x sinensis]  Fabaceae (Leguminosae)   \n",
       "175             Zelkova serrata (Thunb.) Makino                Ulmaceae   \n",
       "\n",
       "    U.S. Nativity  \n",
       "0          Exotic  \n",
       "1          Exotic  \n",
       "2          Exotic  \n",
       "3          Exotic  \n",
       "4          Exotic  \n",
       "..            ...  \n",
       "171        Exotic  \n",
       "172        Exotic  \n",
       "173        Exotic  \n",
       "174        Exotic  \n",
       "175        Exotic  \n",
       "\n",
       "[176 rows x 4 columns]"
      ]
     },
     "execution_count": 9,
     "metadata": {},
     "output_type": "execute_result"
    }
   ],
   "source": [
    "df1"
   ]
  },
  {
   "cell_type": "code",
   "execution_count": 1,
   "id": "803a07f6",
   "metadata": {},
   "outputs": [
    {
     "ename": "TypeError",
     "evalue": "convert_into() missing 1 required positional argument: 'output_path'",
     "output_type": "error",
     "traceback": [
      "\u001b[0;31m---------------------------------------------------------------------------\u001b[0m",
      "\u001b[0;31mTypeError\u001b[0m                                 Traceback (most recent call last)",
      "\u001b[0;32m<ipython-input-1-220f7a1e56b7>\u001b[0m in \u001b[0;36m<module>\u001b[0;34m\u001b[0m\n\u001b[1;32m      3\u001b[0m \u001b[0;32mimport\u001b[0m \u001b[0mtabula\u001b[0m\u001b[0;34m\u001b[0m\u001b[0;34m\u001b[0m\u001b[0m\n\u001b[1;32m      4\u001b[0m \u001b[0;34m\u001b[0m\u001b[0m\n\u001b[0;32m----> 5\u001b[0;31m \u001b[0mdf2\u001b[0m \u001b[0;34m=\u001b[0m \u001b[0mtabula\u001b[0m\u001b[0;34m.\u001b[0m\u001b[0mconvert_into\u001b[0m\u001b[0;34m(\u001b[0m\u001b[0;34m'data/invasive_plants.pdf'\u001b[0m\u001b[0;34m,\u001b[0m \u001b[0mpages\u001b[0m\u001b[0;34m=\u001b[0m\u001b[0;34m'all'\u001b[0m\u001b[0;34m)\u001b[0m\u001b[0;34m\u001b[0m\u001b[0;34m\u001b[0m\u001b[0m\n\u001b[0m",
      "\u001b[0;31mTypeError\u001b[0m: convert_into() missing 1 required positional argument: 'output_path'"
     ]
    }
   ],
   "source": [
    "# Read in df2 which is saved in the 'data' folder of Invasive_Plants.\n",
    "\n",
    "import tabula \n",
    "\n",
    "df2 = tabula.convert_into(\"invasive_plants.pdf\", pages='all')"
   ]
  },
  {
   "cell_type": "code",
   "execution_count": null,
   "id": "23ac7d8e",
   "metadata": {},
   "outputs": [],
   "source": [
    "# Combine the tiered col from df2 to the main data in df1. "
   ]
  },
  {
   "cell_type": "code",
   "execution_count": null,
   "id": "1b7f4ff7",
   "metadata": {},
   "outputs": [],
   "source": [
    "# Imports matplotlib into the script.\n",
    "import matplotlib as mpb\n",
    "break"
   ]
  },
  {
   "cell_type": "code",
   "execution_count": null,
   "id": "dbe9ee48",
   "metadata": {},
   "outputs": [],
   "source": [
    "# Return visualizations for data. Main one showing an overview of all plants from least < most invasive species. "
   ]
  },
  {
   "cell_type": "code",
   "execution_count": null,
   "id": "934a2ebb",
   "metadata": {},
   "outputs": [],
   "source": [
    "# Use data to create a dict so user can enter specific info and find plant invasiness, family groups, etc."
   ]
  },
  {
   "cell_type": "markdown",
   "id": "451bd269",
   "metadata": {},
   "source": [
    "#### The following section was for a webscraping script that didn't pan out, keeping the info to possibly use later."
   ]
  },
  {
   "cell_type": "code",
   "execution_count": 5,
   "id": "ddc77185",
   "metadata": {},
   "outputs": [],
   "source": [
    "# Previously without the requests import I was getting a 'HTTP Error 403' error. So this was how I worked with the \n",
    "# site after finding that out.\n",
    "\n",
    "# import requests is used to access websites via APIs(if they have one).\n",
    "# import requests\n",
    "# import beautifulsoup4 to scrape the website.\n",
    "# from bs4 import BeautifulSoup\n",
    "\n",
    "# uses the requests import to access Kentucky Exotic Pest Plant Council pg.\n",
    "# url = requests.get('https://www.invasiveplantatlas.org/list.html?id=24').text\n",
    "# bs4 scrapes the website and parses it using lxml.\n",
    "# soup = BeautifulSoup(url,'lxml')\n",
    "# returns the website.(Currently it just returns the html for the 403 error.)\n",
    "# print(soup)\n",
    "# searches the webpg for all table tags and returns them.\n",
    "# table = soup.find('table')\n",
    "# returns the table from the pg. (Currently it only rerurns 'None', assuming because of the 403 error. Does this for all tags.)\n",
    "# print(table)"
   ]
  }
 ],
 "metadata": {
  "kernelspec": {
   "display_name": "Python 3",
   "language": "python",
   "name": "python3"
  },
  "language_info": {
   "codemirror_mode": {
    "name": "ipython",
    "version": 3
   },
   "file_extension": ".py",
   "mimetype": "text/x-python",
   "name": "python",
   "nbconvert_exporter": "python",
   "pygments_lexer": "ipython3",
   "version": "3.7.3"
  }
 },
 "nbformat": 4,
 "nbformat_minor": 5
}

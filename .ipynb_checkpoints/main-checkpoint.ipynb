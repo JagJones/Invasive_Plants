{
 "cells": [
  {
   "cell_type": "markdown",
   "id": "d362d876",
   "metadata": {},
   "source": [
    "## Invasive Plant Data of Kentucky (Based on Data from 2013)"
   ]
  },
  {
   "cell_type": "code",
   "execution_count": 1,
   "id": "17f335dd",
   "metadata": {},
   "outputs": [],
   "source": [
    "# Source: https://www.invasiveplantatlas.org/list.html?id=24\n",
    "\n",
    "#----------------------------------------------------\n",
    "# Goals\n",
    "#----------------------------------------------------\n",
    "# . Read in data from two source types-\n",
    "# 1. The first df (df1, from a csv), lists invasive plant species by both common and scientific names as well as nativity.\n",
    "# 2. The second df (df2, also from a csv), has the same plants but lists an additional column of plant invasiveness. \n",
    "# . Combine the two dfs to create one main df (df_main).\n",
    "# . Use matplotlib/seaorn to visually display plant stats.\n",
    "# . Create a dictionary & function so a user can enter a plant name and see the details for that specific plant.\n",
    "\n",
    "#----------------------------------------------------\n",
    "# Features\n",
    "#----------------------------------------------------\n",
    "# . Read data from an external file, such as text, JSON, CSV, etc and use that data in your application.\n",
    "# . Visualize data in a graph, chart, or other visual representation of data\n",
    "# . Create and call at least 3 functions or methods, at least one of which must return a value that is used \n",
    "# somewhere else in your code. To clarify, at least one function should be called in your code, that function \n",
    "# should calculate, retrieve, or otherwise set the value of a variable or data structure, return a value to \n",
    "# where it was called, and use that value somewhere else in your code.\n",
    "\n",
    "#----------------------------------------------------\n",
    "# Additional Features\n",
    "#----------------------------------------------------\n",
    "# . Use pandas, matplotlib, and/or numpy to perform a data analysis project. Ingest 2 or more pieces of data, \n",
    "# analyze that data in some manner, and display a new result to a graph, chart, or other display"
   ]
  },
  {
   "cell_type": "code",
   "execution_count": 1,
   "id": "e9a4ec94",
   "metadata": {},
   "outputs": [],
   "source": [
    "# Imports 'pandas' into the script.\n",
    "import pandas as pd"
   ]
  },
  {
   "cell_type": "code",
   "execution_count": 2,
   "id": "b5da021d",
   "metadata": {},
   "outputs": [],
   "source": [
    "# Displays every row for all dfs in the notebook.\n",
    "\n",
    "# pd.set_option('display.max_rows', 176)"
   ]
  },
  {
   "cell_type": "code",
   "execution_count": 2,
   "id": "8e83cefd",
   "metadata": {},
   "outputs": [
    {
     "data": {
      "text/html": [
       "<div>\n",
       "<style scoped>\n",
       "    .dataframe tbody tr th:only-of-type {\n",
       "        vertical-align: middle;\n",
       "    }\n",
       "\n",
       "    .dataframe tbody tr th {\n",
       "        vertical-align: top;\n",
       "    }\n",
       "\n",
       "    .dataframe thead th {\n",
       "        text-align: right;\n",
       "    }\n",
       "</style>\n",
       "<table border=\"1\" class=\"dataframe\">\n",
       "  <thead>\n",
       "    <tr style=\"text-align: right;\">\n",
       "      <th></th>\n",
       "      <th>Scientific Name</th>\n",
       "      <th>Subject Name</th>\n",
       "      <th>Family</th>\n",
       "      <th>U.S. Nativity</th>\n",
       "    </tr>\n",
       "  </thead>\n",
       "  <tbody>\n",
       "    <tr>\n",
       "      <th>0</th>\n",
       "      <td>Acer platanoides L.</td>\n",
       "      <td>Norway maple</td>\n",
       "      <td>Aceraceae</td>\n",
       "      <td>Exotic</td>\n",
       "    </tr>\n",
       "    <tr>\n",
       "      <th>1</th>\n",
       "      <td>Achyranthes japonica (Miq.) Nakai</td>\n",
       "      <td>Japanese chaff flower</td>\n",
       "      <td>Amaranthaceae</td>\n",
       "      <td>Exotic</td>\n",
       "    </tr>\n",
       "    <tr>\n",
       "      <th>2</th>\n",
       "      <td>Agrostis stolonifera L.</td>\n",
       "      <td>creeping bentgrass</td>\n",
       "      <td>Poaceae</td>\n",
       "      <td>Exotic</td>\n",
       "    </tr>\n",
       "    <tr>\n",
       "      <th>3</th>\n",
       "      <td>Ailanthus altissima (P. Mill.) Swingle</td>\n",
       "      <td>tree-of-heaven</td>\n",
       "      <td>Simaroubaceae</td>\n",
       "      <td>Exotic</td>\n",
       "    </tr>\n",
       "    <tr>\n",
       "      <th>4</th>\n",
       "      <td>Akebia quinata (Houtt.) Dcne.</td>\n",
       "      <td>chocolate vine</td>\n",
       "      <td>Lardizabalaceae</td>\n",
       "      <td>Exotic</td>\n",
       "    </tr>\n",
       "  </tbody>\n",
       "</table>\n",
       "</div>"
      ],
      "text/plain": [
       "                          Scientific Name           Subject Name  \\\n",
       "0                     Acer platanoides L.           Norway maple   \n",
       "1       Achyranthes japonica (Miq.) Nakai  Japanese chaff flower   \n",
       "2                 Agrostis stolonifera L.     creeping bentgrass   \n",
       "3  Ailanthus altissima (P. Mill.) Swingle         tree-of-heaven   \n",
       "4           Akebia quinata (Houtt.) Dcne.         chocolate vine   \n",
       "\n",
       "            Family U.S. Nativity  \n",
       "0        Aceraceae        Exotic  \n",
       "1    Amaranthaceae        Exotic  \n",
       "2          Poaceae        Exotic  \n",
       "3    Simaroubaceae        Exotic  \n",
       "4  Lardizabalaceae        Exotic  "
      ]
     },
     "execution_count": 2,
     "metadata": {},
     "output_type": "execute_result"
    }
   ],
   "source": [
    "# Reads in data from a local csv file. Then creates a data frame(df), which is assigned to 'df1'.\n",
    "df1 = pd.read_csv('data/Invasive_Plants_List - Sheet1.csv', encoding='utf8')\n",
    "\n",
    "# Displays the first 5 rows of the df to see what I'm working with.\n",
    "df1.head()"
   ]
  },
  {
   "cell_type": "code",
   "execution_count": 10,
   "id": "1710da83",
   "metadata": {},
   "outputs": [
    {
     "data": {
      "text/plain": [
       "{'Scientific Name': ['Acer platanoides L.',\n",
       "  'Achyranthes japonica (Miq.) Nakai',\n",
       "  'Agrostis stolonifera L.',\n",
       "  'Ailanthus altissima (P. Mill.) Swingle',\n",
       "  'Akebia quinata (Houtt.) Dcne.'],\n",
       " 'Common Name': ['Norway maple',\n",
       "  'Japanese chaff flower',\n",
       "  'creeping bentgrass',\n",
       "  'tree-of-heaven',\n",
       "  'chocolate vine'],\n",
       " 'Family': ['Aceraceae',\n",
       "  'Amaranthaceae',\n",
       "  'Poaceae',\n",
       "  'Simaroubaceae',\n",
       "  'Lardizabalaceae'],\n",
       " 'U.S. Nativity': ['Exotic', 'Exotic', 'Exotic', 'Exotic', 'Exotic']}"
      ]
     },
     "execution_count": 10,
     "metadata": {},
     "output_type": "execute_result"
    }
   ],
   "source": [
    "#----------------------------------------------------\n",
    "# Cleaning and manipulating for df1. \n",
    "#----------------------------------------------------\n",
    "\n",
    "# This changes the col name from 'Subject Name' to 'Common Name'.\n",
    "# The reason I did this is it's my understanding this will make it easier to merge the two dfs later.\n",
    "df1.rename(columns={\n",
    "    'Subject Name':'Common Name'},\n",
    "          inplace=True)\n",
    "\n",
    "# Displays the first 5 rows of the df after it's been cleaned. \n",
    "df1.head().to_dict('list')"
   ]
  },
  {
   "cell_type": "code",
   "execution_count": 4,
   "id": "a559ed39",
   "metadata": {},
   "outputs": [
    {
     "data": {
      "text/html": [
       "<div>\n",
       "<style scoped>\n",
       "    .dataframe tbody tr th:only-of-type {\n",
       "        vertical-align: middle;\n",
       "    }\n",
       "\n",
       "    .dataframe tbody tr th {\n",
       "        vertical-align: top;\n",
       "    }\n",
       "\n",
       "    .dataframe thead th {\n",
       "        text-align: right;\n",
       "    }\n",
       "</style>\n",
       "<table border=\"1\" class=\"dataframe\">\n",
       "  <thead>\n",
       "    <tr style=\"text-align: right;\">\n",
       "      <th></th>\n",
       "      <th>Scientific Name</th>\n",
       "      <th>Common Name</th>\n",
       "      <th>Threat Level</th>\n",
       "    </tr>\n",
       "  </thead>\n",
       "  <tbody>\n",
       "    <tr>\n",
       "      <th>0</th>\n",
       "      <td>Achyranthes japonica</td>\n",
       "      <td>Japanese chaff flower</td>\n",
       "      <td>1</td>\n",
       "    </tr>\n",
       "    <tr>\n",
       "      <th>1</th>\n",
       "      <td>Ailanthus altissima</td>\n",
       "      <td>tree-of-heaven</td>\n",
       "      <td>1</td>\n",
       "    </tr>\n",
       "    <tr>\n",
       "      <th>2</th>\n",
       "      <td>Alliaria petiolata</td>\n",
       "      <td>garlic mustard</td>\n",
       "      <td>1</td>\n",
       "    </tr>\n",
       "    <tr>\n",
       "      <th>3</th>\n",
       "      <td>Ampelopsis brevipedunculata</td>\n",
       "      <td>porcelain berry</td>\n",
       "      <td>1</td>\n",
       "    </tr>\n",
       "    <tr>\n",
       "      <th>4</th>\n",
       "      <td>Arthraxon hispidus</td>\n",
       "      <td>hairy jointgrass</td>\n",
       "      <td>1</td>\n",
       "    </tr>\n",
       "  </tbody>\n",
       "</table>\n",
       "</div>"
      ],
      "text/plain": [
       "               Scientific Name            Common Name  Threat Level\n",
       "0         Achyranthes japonica  Japanese chaff flower             1\n",
       "1          Ailanthus altissima         tree-of-heaven             1\n",
       "2           Alliaria petiolata         garlic mustard             1\n",
       "3  Ampelopsis brevipedunculata        porcelain berry             1\n",
       "4           Arthraxon hispidus       hairy jointgrass             1"
      ]
     },
     "execution_count": 4,
     "metadata": {},
     "output_type": "execute_result"
    }
   ],
   "source": [
    "# Reads in df2 which is saved in the 'data' folder of Invasive_Plants.\n",
    "df2 = pd.read_csv('data/Invasive_Plants_Threat_Levels - Sheet1.csv', encoding='utf8')\n",
    "\n",
    "\n",
    "# Again, displaying the first 5 rows of the df to get a look at the data.\n",
    "df2.head()"
   ]
  },
  {
   "cell_type": "code",
   "execution_count": 9,
   "id": "ed821d83",
   "metadata": {},
   "outputs": [
    {
     "data": {
      "text/plain": [
       "{'Scientific Name': ['Achyranthes japonica',\n",
       "  'Ailanthus altissima',\n",
       "  'Alliaria petiolata',\n",
       "  'Ampelopsis brevipedunculata',\n",
       "  'Arthraxon hispidus'],\n",
       " 'Common Name': ['Japanese chaff flower',\n",
       "  'tree-of-heaven',\n",
       "  'garlic mustard',\n",
       "  'porcelain berry',\n",
       "  'hairy jointgrass'],\n",
       " 'Threat Level': [1, 1, 1, 1, 1]}"
      ]
     },
     "execution_count": 9,
     "metadata": {},
     "output_type": "execute_result"
    }
   ],
   "source": [
    "#----------------------------------------------------\n",
    "# Cleaning and manipulating for df2.\n",
    "#----------------------------------------------------\n",
    "\n",
    "# This will alphabetize the 'Scientific Names' col. Again, this should help with merging the two dfs later.\n",
    "df2.sort_values(by=['Scientific Name'])\n",
    "\n",
    "# # df1.col1= df1.col1.astype(str)\n",
    "# # df2.col2 = df2.col2.astype(str)\n",
    "\n",
    "# df1.col1 = df1.col1.str.encode('utf-8')\n",
    "# df2.col2 = df2.col2.str.encode('utf-8')\n",
    "\n",
    "# Again, just making sure the change took place with the first few rows.\n",
    "df2.head().to_dict('list')"
   ]
  },
  {
   "cell_type": "code",
   "execution_count": 11,
   "id": "57264eae",
   "metadata": {},
   "outputs": [
    {
     "data": {
      "text/html": [
       "<div>\n",
       "<style scoped>\n",
       "    .dataframe tbody tr th:only-of-type {\n",
       "        vertical-align: middle;\n",
       "    }\n",
       "\n",
       "    .dataframe tbody tr th {\n",
       "        vertical-align: top;\n",
       "    }\n",
       "\n",
       "    .dataframe thead th {\n",
       "        text-align: right;\n",
       "    }\n",
       "</style>\n",
       "<table border=\"1\" class=\"dataframe\">\n",
       "  <thead>\n",
       "    <tr style=\"text-align: right;\">\n",
       "      <th></th>\n",
       "      <th>Scientific Name</th>\n",
       "      <th>Common Name</th>\n",
       "      <th>Family</th>\n",
       "      <th>U.S. Nativity</th>\n",
       "      <th>Threat Level</th>\n",
       "    </tr>\n",
       "  </thead>\n",
       "  <tbody>\n",
       "  </tbody>\n",
       "</table>\n",
       "</div>"
      ],
      "text/plain": [
       "Empty DataFrame\n",
       "Columns: [Scientific Name, Common Name, Family, U.S. Nativity, Threat Level]\n",
       "Index: []"
      ]
     },
     "execution_count": 11,
     "metadata": {},
     "output_type": "execute_result"
    }
   ],
   "source": [
    "#----------------------------------------------------\n",
    "# Merging/joining the dfs to make one main df.\n",
    "#----------------------------------------------------\n",
    "\n",
    "# Merge on a specific col.\n",
    "main_df = pd.merge(df1, df2)\n",
    "main_df"
   ]
  },
  {
   "cell_type": "code",
   "execution_count": 21,
   "id": "23ac7d8e",
   "metadata": {},
   "outputs": [],
   "source": [
    "#----------------------------------------------------\n",
    "# Cleaning and manipulaing the main_df.\n",
    "#----------------------------------------------------\n",
    "\n",
    "# Seperate plant family groups and pick the 3 largest groups. (Use pandas collab book for ex.)\n",
    "# Use this info for visualizations.\n",
    "\n",
    "# This line looks at the 'Family' col within the main_df. \n",
    "# main_df['Family'].unique()\n",
    "\n",
    "# Creates a new variable which holds the values of the 'Family' col.\n",
    "# fam_group = main_df['Famly'].value_counts()\n",
    "\n",
    "# Selects the top 5 largest groups.\n",
    "# fam_group.nlargest(5).index\n",
    "\n",
    "# Selects the data from the top 5 family groups.\n",
    "# main_df = data[data['Family'].isin(fam_group.nlargest(5).index)].copy()"
   ]
  },
  {
   "cell_type": "code",
   "execution_count": 4,
   "id": "1b7f4ff7",
   "metadata": {},
   "outputs": [],
   "source": [
    "# Imports 'seaborn' into the script.\n",
    "import seaborn as sns"
   ]
  },
  {
   "cell_type": "code",
   "execution_count": 5,
   "id": "c7812c4c",
   "metadata": {},
   "outputs": [],
   "source": [
    "#----------------------------------------------------\n",
    "# TEST\n",
    "#----------------------------------------------------\n",
    "\n",
    "#From the seaborn docs, used to make sure seaborn works as it's supposed to within this notebook. \n",
    "# df = sns.load_dataset(\"penguins\")\n",
    "# sns.pairplot(df, hue=\"species\")"
   ]
  },
  {
   "cell_type": "code",
   "execution_count": null,
   "id": "c9bdf2aa",
   "metadata": {},
   "outputs": [],
   "source": []
  },
  {
   "cell_type": "code",
   "execution_count": null,
   "id": "dbe9ee48",
   "metadata": {},
   "outputs": [],
   "source": [
    "# Return visualizations for data. \n",
    "# Main one showing an overview of all plants from least < most invasive species.\n",
    "# Threat levels on x-axis, numbers in groups of 10, on y-axis.\n",
    "# Second one being family groups by number of species within each family.\n",
    "# Family names on x-axis, numbers in groups of 10, on y-axis.\n",
    "# Third, and maybe most impressive will be a bar chart showing nativ vs. exotic species.\n",
    "# Plot graph in shades of greens, yellow, orange, and red. Green being on the watch list, red being severe."
   ]
  },
  {
   "cell_type": "code",
   "execution_count": null,
   "id": "934a2ebb",
   "metadata": {},
   "outputs": [],
   "source": [
    "#----------------------------------------------------\n",
    "# Dictionary\n",
    "#----------------------------------------------------\n",
    "\n",
    "# Use data to create a dict so user can enter specific info and find plant invasiness, family groups, etc.\n",
    "\n",
    "import Invasive_Plant_Dict\n",
    "break"
   ]
  },
  {
   "cell_type": "markdown",
   "id": "451bd269",
   "metadata": {},
   "source": [
    "#### Possible Future Features"
   ]
  },
  {
   "cell_type": "code",
   "execution_count": 5,
   "id": "ddc77185",
   "metadata": {},
   "outputs": [],
   "source": [
    "# Create a method so a user can view the visualization for all plants at one type of threat level.\n",
    "# Gather more data to show growth rates over time. (Fingers crossed on that one.)\n",
    "# Gather more data to find the top 5, 10 & 50 most invasive species."
   ]
  }
 ],
 "metadata": {
  "kernelspec": {
   "display_name": "Python 3",
   "language": "python",
   "name": "python3"
  },
  "language_info": {
   "codemirror_mode": {
    "name": "ipython",
    "version": 3
   },
   "file_extension": ".py",
   "mimetype": "text/x-python",
   "name": "python",
   "nbconvert_exporter": "python",
   "pygments_lexer": "ipython3",
   "version": "3.7.3"
  }
 },
 "nbformat": 4,
 "nbformat_minor": 5
}

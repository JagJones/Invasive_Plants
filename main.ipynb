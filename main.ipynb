{
 "cells": [
  {
   "cell_type": "code",
   "execution_count": null,
   "id": "17f335dd",
   "metadata": {},
   "outputs": [],
   "source": [
    "# Project Summary- \n",
    "# This script will use pandas to read in invasive plant speciecs data.\n",
    "# Depending on the data I find it may be used to combine sources into one data frame.\n",
    "# Also depending on the data the goal here is to:\n",
    "# 1. seperate invasive plantas into tiers of most to least invasive.\n",
    "# 2. show when ea. plant was deemed invasive.\n",
    "# 3. display the growth/decline of ea. plant over time.\n",
    "\n",
    "# Features- \n",
    "# . Read data from an external file, such as text, JSON, CSV, etc and use that data in your application\n",
    "# . Create and call at least 3 functions or methods, at least one of which must return a value that is used \n",
    "# somewhere else in your code. To clarify, at least one function should be called in your code, that function \n",
    "# should calculate, retrieve, or otherwise set the value of a variable or data structure, return a value to \n",
    "# where it was called, and use that value somewhere else in your code.\n",
    "# . Visualize data in a graph, chart, or other visual representation of data\n",
    "\n",
    "# Special Features- \n",
    "# . Implement a “scraper” that can be fed a type of file or URL and pull information off of it. For example, \n",
    "# a web scraper that lets you provide any website URL and it will find certain keywords on the page\n",
    "# . Use pandas, matplotlib, and/or numpy to perform a data analysis project. Ingest 2 or more pieces of data, \n",
    "# analyze that data in some manner, and display a new result to a graph, chart, or other display"
   ]
  },
  {
   "cell_type": "code",
   "execution_count": null,
   "id": "e9a4ec94",
   "metadata": {},
   "outputs": [],
   "source": [
    "# import pandas\n",
    "import pandas as pd\n",
    "\n",
    "# read in data\n"
   ]
  }
 ],
 "metadata": {
  "kernelspec": {
   "display_name": "Python 3",
   "language": "python",
   "name": "python3"
  },
  "language_info": {
   "codemirror_mode": {
    "name": "ipython",
    "version": 3
   },
   "file_extension": ".py",
   "mimetype": "text/x-python",
   "name": "python",
   "nbconvert_exporter": "python",
   "pygments_lexer": "ipython3",
   "version": "3.7.3"
  }
 },
 "nbformat": 4,
 "nbformat_minor": 5
}
